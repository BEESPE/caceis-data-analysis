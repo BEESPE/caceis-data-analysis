{
 "cells": [
  {
   "cell_type": "markdown",
   "metadata": {},
   "source": [
    "Dans ce TP, nous considérons des trajets en vélo partagé (similaire au Vélib) en Californie. Deux jeux de données sont fournis : l'un qui contient les stations de vélo, l'autre, les trajets à vélo. Les déplacements à vélo se font d'une station à l'autre."
   ]
  },
  {
   "cell_type": "markdown",
   "metadata": {},
   "source": [
    "Charger le fichier stationData.csv dans un DataFrame `station_df` et le fichier tripData.csv dans un DataFrame `trip_df`. Pour chaque DataFrame, il vous faudra demander une inférence des schémas et indiquer que la première ligne est un en-tête."
   ]
  },
  {
   "cell_type": "code",
   "execution_count": null,
   "metadata": {},
   "outputs": [
    {
     "data": {
      "text/plain": [
       "354152"
      ]
     },
     "execution_count": 1,
     "metadata": {},
     "output_type": "execute_result"
    }
   ],
   "source": [
    "from pathlib import Path\n",
    "import pandas as pd\n",
    "import sqlite3\n",
    "\n",
    "# Chemins vers les fichiers de données\n",
    "data_dir = Path(\"../../data\")\n",
    "station_file = data_dir / \"stationData.csv\"\n",
    "trip_file = data_dir / \"tripData.csv\"\n",
    "\n",
    "# Chargement des fichiers\n",
    "station_df = pd.read_csv(station_file)\n",
    "trip_df = pd.read_csv(trip_file)"
   ]
  },
  {
   "cell_type": "markdown",
   "metadata": {},
   "source": [
    "Afficher les schémas/informations des deux DataFrames."
   ]
  },
  {
   "cell_type": "code",
   "execution_count": 2,
   "metadata": {},
   "outputs": [
    {
     "name": "stdout",
     "output_type": "stream",
     "text": [
      "Schema de station_df:\n",
      "<class 'pandas.core.frame.DataFrame'>\n",
      "RangeIndex: 70 entries, 0 to 69\n",
      "Data columns (total 7 columns):\n",
      " #   Column        Non-Null Count  Dtype  \n",
      "---  ------        --------------  -----  \n",
      " 0   station_id    70 non-null     int64  \n",
      " 1   name          70 non-null     object \n",
      " 2   lat           70 non-null     float64\n",
      " 3   long          70 non-null     float64\n",
      " 4   dockcount     70 non-null     int64  \n",
      " 5   landmark      70 non-null     object \n",
      " 6   installation  70 non-null     object \n",
      "dtypes: float64(2), int64(2), object(3)\n",
      "memory usage: 4.0+ KB\n",
      "None\n",
      "\n",
      "Schema de trip_df:\n",
      "<class 'pandas.core.frame.DataFrame'>\n",
      "RangeIndex: 354152 entries, 0 to 354151\n",
      "Data columns (total 11 columns):\n",
      " #   Column          Non-Null Count   Dtype \n",
      "---  ------          --------------   ----- \n",
      " 0   TripID          354152 non-null  int64 \n",
      " 1   Duration        354152 non-null  int64 \n",
      " 2   StartDate       354152 non-null  object\n",
      " 3   StartStation    354152 non-null  object\n",
      " 4   StartTerminal   354152 non-null  int64 \n",
      " 5   EndDate         354152 non-null  object\n",
      " 6   EndStation      354152 non-null  object\n",
      " 7   EndTerminal     354152 non-null  int64 \n",
      " 8   Bike#           354152 non-null  int64 \n",
      " 9   SubscriberType  354152 non-null  object\n",
      " 10  ZipCode         353874 non-null  object\n",
      "dtypes: int64(5), object(6)\n",
      "memory usage: 29.7+ MB\n",
      "None\n"
     ]
    }
   ],
   "source": [
    "print(\"Schema de station_df:\")\n",
    "print(station_df.info())\n",
    "print(\"\\nSchema de trip_df:\")\n",
    "print(trip_df.info())"
   ]
  },
  {
   "cell_type": "markdown",
   "metadata": {},
   "source": [
    "Créer une base SQLite ainsi qu'une vue SQL pour chaque DataFrame."
   ]
  },
  {
   "cell_type": "code",
   "execution_count": 3,
   "metadata": {},
   "outputs": [
    {
     "data": {
      "text/plain": [
       "354152"
      ]
     },
     "execution_count": 3,
     "metadata": {},
     "output_type": "execute_result"
    }
   ],
   "source": [
    "# Création de la base SQLite pour permettre les requêtes SQL\n",
    "conn = sqlite3.connect(\":memory:\")\n",
    "station_df.to_sql(\"station\", conn, index=False, if_exists=\"replace\")\n",
    "trip_df.to_sql(\"trip\", conn, index=False, if_exists=\"replace\")"
   ]
  },
  {
   "cell_type": "markdown",
   "metadata": {},
   "source": [
    "Trouver deux façons de calculer le nombre de trajets, l'une en appelant une méthode sur `trip_df` directement, l'autre en rédigeant une requête SQL sur la vue correspondante."
   ]
  },
  {
   "cell_type": "code",
   "execution_count": 4,
   "metadata": {},
   "outputs": [
    {
     "name": "stdout",
     "output_type": "stream",
     "text": [
      "Nombre de trajets (Pandas): 354152\n",
      "Nombre de trajets (SQL): 354152\n"
     ]
    }
   ],
   "source": [
    "# Méthode Pandas\n",
    "print(\"Nombre de trajets (Pandas):\", len(trip_df))\n",
    "\n",
    "# Méthode SQL\n",
    "query = \"SELECT COUNT(*) AS trip_count FROM trip\"\n",
    "trip_count = pd.read_sql(query, conn)\n",
    "print(\"Nombre de trajets (SQL):\", trip_count.iloc[0][\"trip_count\"])"
   ]
  },
  {
   "cell_type": "markdown",
   "metadata": {},
   "source": [
    "Écrire une requête permettant de compter le nombre de trajets qui démarrent et se terminent à la même station."
   ]
  },
  {
   "cell_type": "code",
   "execution_count": 5,
   "metadata": {},
   "outputs": [
    {
     "name": "stdout",
     "output_type": "stream",
     "text": [
      "Nombre de trajets démarrant et terminant à la même station (Pandas): 10276\n",
      "Nombre de trajets démarrant et terminant à la même station (SQL): 10276\n"
     ]
    }
   ],
   "source": [
    "# Méthode Pandas\n",
    "same_station_count = len(trip_df[trip_df[\"StartStation\"] == trip_df[\"EndStation\"]])\n",
    "print(\"Nombre de trajets démarrant et terminant à la même station (Pandas):\", same_station_count)\n",
    "\n",
    "# Méthode SQL\n",
    "query = \"\"\"\n",
    "SELECT COUNT(*) AS same_station_trips\n",
    "FROM trip\n",
    "WHERE StartStation = EndStation\n",
    "\"\"\"\n",
    "same_station_trips = pd.read_sql(query, conn)\n",
    "print(\"Nombre de trajets démarrant et terminant à la même station (SQL):\", same_station_trips.iloc[0][\"same_station_trips\"])"
   ]
  },
  {
   "cell_type": "markdown",
   "metadata": {},
   "source": [
    "Obtenir l’id des stations associées à ces trajets. Écrire une requête renvoyant la liste des terminaux concernés ainsi que le nombre de trajets pour chacun de ces terminaux. Trier le résultat par ordre décroissant de nombre de trajets."
   ]
  },
  {
   "cell_type": "code",
   "execution_count": 6,
   "metadata": {},
   "outputs": [
    {
     "name": "stdout",
     "output_type": "stream",
     "text": [
      "    StartTerminal  trip_count\n",
      "48             60         850\n",
      "40             50         708\n",
      "28             35         348\n",
      "64             76         320\n",
      "62             74         307\n",
      "..            ...         ...\n",
      "66             80          26\n",
      "17             24          23\n",
      "68             83          21\n",
      "14             21          12\n",
      "19             26           7\n",
      "\n",
      "[70 rows x 2 columns]\n",
      "    terminal  trip_count\n",
      "0         60         850\n",
      "1         50         708\n",
      "2         35         348\n",
      "3         76         320\n",
      "4         74         307\n",
      "..       ...         ...\n",
      "65        80          26\n",
      "66        24          23\n",
      "67        83          21\n",
      "68        21          12\n",
      "69        26           7\n",
      "\n",
      "[70 rows x 2 columns]\n"
     ]
    }
   ],
   "source": [
    "# Méthode Pandas\n",
    "terminal_trips = (\n",
    "    trip_df[trip_df[\"StartStation\"] == trip_df[\"EndStation\"]]\n",
    "    .groupby(\"StartTerminal\")\n",
    "    .size()\n",
    "    .reset_index(name=\"trip_count\")\n",
    "    .sort_values(by=\"trip_count\", ascending=False)\n",
    ")\n",
    "print(terminal_trips)\n",
    "\n",
    "# Méthode SQL\n",
    "query = \"\"\"\n",
    "SELECT StartTerminal AS terminal, COUNT(*) AS trip_count\n",
    "FROM trip\n",
    "WHERE StartStation = EndStation\n",
    "GROUP BY StartTerminal\n",
    "ORDER BY trip_count DESC\n",
    "\"\"\"\n",
    "terminal_trips_sql = pd.read_sql(query, conn)\n",
    "print(terminal_trips_sql)"
   ]
  },
  {
   "cell_type": "markdown",
   "metadata": {},
   "source": [
    "Compléter le résultat en indiquant le nombre de docks (dockcount) des stations concernées."
   ]
  },
  {
   "cell_type": "code",
   "execution_count": 7,
   "metadata": {},
   "outputs": [
    {
     "name": "stdout",
     "output_type": "stream",
     "text": [
      "    StartTerminal  dockcount  trip_count\n",
      "48             60         15         850\n",
      "40             50         23         708\n",
      "28             35         11         348\n",
      "64             76         19         320\n",
      "62             74         23         307\n",
      "..            ...        ...         ...\n",
      "66             80         15          26\n",
      "17             24         15          23\n",
      "68             83         15          21\n",
      "14             21         15          12\n",
      "19             26         15           7\n",
      "\n",
      "[70 rows x 3 columns]\n",
      "    terminal  dockcount  trip_count\n",
      "0         60         15         850\n",
      "1         50         23         708\n",
      "2         35         11         348\n",
      "3         76         19         320\n",
      "4         74         23         307\n",
      "..       ...        ...         ...\n",
      "65        80         15          26\n",
      "66        24         15          23\n",
      "67        83         15          21\n",
      "68        21         15          12\n",
      "69        26         15           7\n",
      "\n",
      "[70 rows x 3 columns]\n"
     ]
    }
   ],
   "source": [
    "# Méthode Pandas\n",
    "terminal_docks = (\n",
    "    trip_df[trip_df[\"StartStation\"] == trip_df[\"EndStation\"]]\n",
    "    .merge(station_df, left_on=\"StartTerminal\", right_on=\"station_id\")\n",
    "    .groupby([\"StartTerminal\", \"dockcount\"])\n",
    "    .size()\n",
    "    .reset_index(name=\"trip_count\")\n",
    "    .sort_values(by=\"trip_count\", ascending=False)\n",
    ")\n",
    "print(terminal_docks)\n",
    "\n",
    "# Méthode SQL\n",
    "query = \"\"\"\n",
    "SELECT t.StartTerminal AS terminal, s.dockcount, COUNT(*) AS trip_count\n",
    "FROM trip t\n",
    "JOIN station s ON t.StartTerminal = s.station_id\n",
    "WHERE t.StartStation = t.EndStation\n",
    "GROUP BY t.StartTerminal, s.dockcount\n",
    "ORDER BY trip_count DESC\n",
    "\"\"\"\n",
    "terminal_docks_sql = pd.read_sql(query, conn)\n",
    "print(terminal_docks_sql)"
   ]
  },
  {
   "cell_type": "code",
   "execution_count": null,
   "id": "8b152da8",
   "metadata": {},
   "outputs": [],
   "source": []
  }
 ],
 "metadata": {
  "kernelspec": {
   "display_name": "test-yOZBwoax-py3.11",
   "language": "python",
   "name": "python3"
  },
  "language_info": {
   "codemirror_mode": {
    "name": "ipython",
    "version": 3
   },
   "file_extension": ".py",
   "mimetype": "text/x-python",
   "name": "python",
   "nbconvert_exporter": "python",
   "pygments_lexer": "ipython3",
   "version": "3.11.4"
  }
 },
 "nbformat": 4,
 "nbformat_minor": 5
}
