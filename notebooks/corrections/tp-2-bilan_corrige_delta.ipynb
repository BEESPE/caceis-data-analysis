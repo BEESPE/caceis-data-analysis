{
 "cells": [
  {
   "cell_type": "code",
   "execution_count": 1,
   "metadata": {},
   "outputs": [],
   "source": [
    "from pathlib import Path\n",
    "\n",
    "import pandas as pd"
   ]
  },
  {
   "cell_type": "code",
   "execution_count": 2,
   "metadata": {},
   "outputs": [],
   "source": [
    "DATA_DIR = Path(\"..\", \"..\", \"data\")"
   ]
  },
  {
   "cell_type": "code",
   "execution_count": 3,
   "metadata": {},
   "outputs": [],
   "source": [
    "PORTFOLIO_CODE = \"Portoflio Code\"\n",
    "ASSET_CODE = \"Asset Code\"\n",
    "QUANTITY = \"Quantity\""
   ]
  },
  {
   "cell_type": "markdown",
   "metadata": {},
   "source": [
    "### Chargement des données"
   ]
  },
  {
   "cell_type": "code",
   "execution_count": 4,
   "metadata": {},
   "outputs": [],
   "source": [
    "usecols = [PORTFOLIO_CODE, ASSET_CODE, QUANTITY]\n",
    "\n",
    "portfolio_snapshot_1_df = pd.read_csv(\n",
    "    Path(DATA_DIR, \"20241122_203007.ptf_inventories.csv\"),\n",
    "    sep=\";\",\n",
    "    usecols=usecols,\n",
    ")\n",
    "\n",
    "portfolio_snapshot_2_df = pd.read_csv(\n",
    "    Path(DATA_DIR, \"20241125_200215.ptf_inventories.csv\"),\n",
    "    sep=\";\",\n",
    "    usecols=usecols,\n",
    ")"
   ]
  },
  {
   "cell_type": "markdown",
   "metadata": {},
   "source": [
    "### Agrégation des lignes multiples pour un même asset dans un même portefeuille"
   ]
  },
  {
   "cell_type": "code",
   "execution_count": 5,
   "metadata": {},
   "outputs": [
    {
     "data": {
      "text/html": [
       "<div>\n",
       "<style scoped>\n",
       "    .dataframe tbody tr th:only-of-type {\n",
       "        vertical-align: middle;\n",
       "    }\n",
       "\n",
       "    .dataframe tbody tr th {\n",
       "        vertical-align: top;\n",
       "    }\n",
       "\n",
       "    .dataframe thead th {\n",
       "        text-align: right;\n",
       "    }\n",
       "</style>\n",
       "<table border=\"1\" class=\"dataframe\">\n",
       "  <thead>\n",
       "    <tr style=\"text-align: right;\">\n",
       "      <th></th>\n",
       "      <th>Portoflio Code</th>\n",
       "      <th>Asset Code</th>\n",
       "      <th>Quantity</th>\n",
       "    </tr>\n",
       "  </thead>\n",
       "  <tbody>\n",
       "    <tr>\n",
       "      <th>47</th>\n",
       "      <td>111111</td>\n",
       "      <td>FutUCO22412</td>\n",
       "      <td>31.609809</td>\n",
       "    </tr>\n",
       "    <tr>\n",
       "      <th>62</th>\n",
       "      <td>111111</td>\n",
       "      <td>FutBCO22412</td>\n",
       "      <td>-2.370736</td>\n",
       "    </tr>\n",
       "    <tr>\n",
       "      <th>69</th>\n",
       "      <td>111111</td>\n",
       "      <td>FutBCO22412</td>\n",
       "      <td>11.063433</td>\n",
       "    </tr>\n",
       "    <tr>\n",
       "      <th>70</th>\n",
       "      <td>111111</td>\n",
       "      <td>FutUCO22412</td>\n",
       "      <td>42.673242</td>\n",
       "    </tr>\n",
       "    <tr>\n",
       "      <th>274</th>\n",
       "      <td>111111</td>\n",
       "      <td>ISINS7620S9Y</td>\n",
       "      <td>303.454162</td>\n",
       "    </tr>\n",
       "    <tr>\n",
       "      <th>275</th>\n",
       "      <td>111111</td>\n",
       "      <td>ISINS7620S9Y</td>\n",
       "      <td>1296.792395</td>\n",
       "    </tr>\n",
       "    <tr>\n",
       "      <th>371</th>\n",
       "      <td>111111</td>\n",
       "      <td>ISIN01Q91500</td>\n",
       "      <td>2245.876896</td>\n",
       "    </tr>\n",
       "    <tr>\n",
       "      <th>372</th>\n",
       "      <td>111111</td>\n",
       "      <td>ISIN01Q91500</td>\n",
       "      <td>6513.991291</td>\n",
       "    </tr>\n",
       "    <tr>\n",
       "      <th>597</th>\n",
       "      <td>222222</td>\n",
       "      <td>FutBCO22412</td>\n",
       "      <td>-1.580490</td>\n",
       "    </tr>\n",
       "    <tr>\n",
       "      <th>602</th>\n",
       "      <td>222222</td>\n",
       "      <td>FutPIN22412</td>\n",
       "      <td>2.370736</td>\n",
       "    </tr>\n",
       "    <tr>\n",
       "      <th>612</th>\n",
       "      <td>222222</td>\n",
       "      <td>FutPIN22412</td>\n",
       "      <td>0.790245</td>\n",
       "    </tr>\n",
       "    <tr>\n",
       "      <th>620</th>\n",
       "      <td>222222</td>\n",
       "      <td>FutUCO22412</td>\n",
       "      <td>37.931770</td>\n",
       "    </tr>\n",
       "    <tr>\n",
       "      <th>621</th>\n",
       "      <td>222222</td>\n",
       "      <td>FutBCO22412</td>\n",
       "      <td>-3.951226</td>\n",
       "    </tr>\n",
       "    <tr>\n",
       "      <th>622</th>\n",
       "      <td>222222</td>\n",
       "      <td>FutUCO22412</td>\n",
       "      <td>-16.595149</td>\n",
       "    </tr>\n",
       "    <tr>\n",
       "      <th>847</th>\n",
       "      <td>222222</td>\n",
       "      <td>ISINS7620S9Y</td>\n",
       "      <td>74.283050</td>\n",
       "    </tr>\n",
       "    <tr>\n",
       "      <th>848</th>\n",
       "      <td>222222</td>\n",
       "      <td>ISINS7620S9Y</td>\n",
       "      <td>381.688438</td>\n",
       "    </tr>\n",
       "    <tr>\n",
       "      <th>964</th>\n",
       "      <td>222222</td>\n",
       "      <td>ISIN01Q91500</td>\n",
       "      <td>575.298515</td>\n",
       "    </tr>\n",
       "    <tr>\n",
       "      <th>965</th>\n",
       "      <td>222222</td>\n",
       "      <td>ISIN01Q91500</td>\n",
       "      <td>1577.329445</td>\n",
       "    </tr>\n",
       "  </tbody>\n",
       "</table>\n",
       "</div>"
      ],
      "text/plain": [
       "     Portoflio Code    Asset Code     Quantity\n",
       "47           111111   FutUCO22412    31.609809\n",
       "62           111111   FutBCO22412    -2.370736\n",
       "69           111111   FutBCO22412    11.063433\n",
       "70           111111   FutUCO22412    42.673242\n",
       "274          111111  ISINS7620S9Y   303.454162\n",
       "275          111111  ISINS7620S9Y  1296.792395\n",
       "371          111111  ISIN01Q91500  2245.876896\n",
       "372          111111  ISIN01Q91500  6513.991291\n",
       "597          222222   FutBCO22412    -1.580490\n",
       "602          222222   FutPIN22412     2.370736\n",
       "612          222222   FutPIN22412     0.790245\n",
       "620          222222   FutUCO22412    37.931770\n",
       "621          222222   FutBCO22412    -3.951226\n",
       "622          222222   FutUCO22412   -16.595149\n",
       "847          222222  ISINS7620S9Y    74.283050\n",
       "848          222222  ISINS7620S9Y   381.688438\n",
       "964          222222  ISIN01Q91500   575.298515\n",
       "965          222222  ISIN01Q91500  1577.329445"
      ]
     },
     "execution_count": 5,
     "metadata": {},
     "output_type": "execute_result"
    }
   ],
   "source": [
    "mask_duplicated = portfolio_snapshot_1_df.duplicated(subset=[PORTFOLIO_CODE, ASSET_CODE], keep=False)\n",
    "portfolio_snapshot_1_df[mask_duplicated]"
   ]
  },
  {
   "cell_type": "code",
   "execution_count": 6,
   "metadata": {},
   "outputs": [],
   "source": [
    "aggregated_p1 = portfolio_snapshot_1_df.groupby([PORTFOLIO_CODE, ASSET_CODE]).sum().reset_index()\n",
    "aggregated_p2 = portfolio_snapshot_2_df.groupby([PORTFOLIO_CODE, ASSET_CODE]).sum().reset_index()\n"
   ]
  },
  {
   "cell_type": "markdown",
   "metadata": {},
   "source": [
    "### Jointure (full outer) avant après"
   ]
  },
  {
   "cell_type": "code",
   "execution_count": 7,
   "metadata": {},
   "outputs": [],
   "source": [
    "merged_df = pd.merge(\n",
    "    aggregated_p1,\n",
    "    aggregated_p2,\n",
    "    how=\"outer\",\n",
    "    on=[PORTFOLIO_CODE, ASSET_CODE],\n",
    "    suffixes=(\"_before\", \"_after\"),\n",
    ")"
   ]
  },
  {
   "cell_type": "markdown",
   "metadata": {},
   "source": [
    "### Remplissage des valeurs manquantes à 0 (si un asset n'était pas présent, alors sa quantité valait 0)"
   ]
  },
  {
   "cell_type": "code",
   "execution_count": 8,
   "metadata": {},
   "outputs": [],
   "source": [
    "merged_df[\n",
    "    [\"Quantity_after\", \"Quantity_before\"]\n",
    "] = merged_df[\n",
    "    [\"Quantity_after\", \"Quantity_before\"]\n",
    "].fillna(0)"
   ]
  },
  {
   "cell_type": "markdown",
   "metadata": {},
   "source": [
    "### Calcul de la variation"
   ]
  },
  {
   "cell_type": "code",
   "execution_count": 9,
   "metadata": {},
   "outputs": [],
   "source": [
    "merged_df[\"quantity_variation\"] = merged_df[\"Quantity_after\"] - merged_df[\"Quantity_before\"]"
   ]
  },
  {
   "cell_type": "markdown",
   "metadata": {},
   "source": [
    "### Filtre sur les variations non nulles"
   ]
  },
  {
   "cell_type": "code",
   "execution_count": 10,
   "metadata": {},
   "outputs": [],
   "source": [
    "mask = merged_df[\"quantity_variation\"] != 0\n",
    "variation_df = merged_df[mask]"
   ]
  },
  {
   "cell_type": "code",
   "execution_count": 11,
   "metadata": {},
   "outputs": [
    {
     "data": {
      "text/plain": [
       "63"
      ]
     },
     "execution_count": 11,
     "metadata": {},
     "output_type": "execute_result"
    }
   ],
   "source": [
    "len(variation_df)"
   ]
  },
  {
   "cell_type": "markdown",
   "metadata": {},
   "source": [
    "### Complément : filtre sur les apparitions ou disparitions d'assets"
   ]
  },
  {
   "cell_type": "code",
   "execution_count": 12,
   "metadata": {},
   "outputs": [
    {
     "data": {
      "text/plain": [
       "63"
      ]
     },
     "execution_count": 12,
     "metadata": {},
     "output_type": "execute_result"
    }
   ],
   "source": [
    "len(\n",
    "    variation_df[\n",
    "       (\n",
    "            (variation_df[\"Quantity_before\"] == 0.) | (variation_df[\"Quantity_after\"] == 0.)\n",
    "        )\n",
    "    ]\n",
    ")"
   ]
  },
  {
   "cell_type": "code",
   "execution_count": 15,
   "metadata": {},
   "outputs": [],
   "source": [
    "OUTPUTDIR = Path(DATA_DIR, \"output\")\n",
    "variation_df.to_csv(Path(OUTPUTDIR, \"variations.csv\"))"
   ]
  },
  {
   "cell_type": "code",
   "execution_count": null,
   "metadata": {},
   "outputs": [],
   "source": []
  }
 ],
 "metadata": {
  "kernelspec": {
   "display_name": "test-yOZBwoax-py3.11",
   "language": "python",
   "name": "python3"
  },
  "language_info": {
   "codemirror_mode": {
    "name": "ipython",
    "version": 3
   },
   "file_extension": ".py",
   "mimetype": "text/x-python",
   "name": "python",
   "nbconvert_exporter": "python",
   "pygments_lexer": "ipython3",
   "version": "3.11.4"
  }
 },
 "nbformat": 4,
 "nbformat_minor": 2
}
