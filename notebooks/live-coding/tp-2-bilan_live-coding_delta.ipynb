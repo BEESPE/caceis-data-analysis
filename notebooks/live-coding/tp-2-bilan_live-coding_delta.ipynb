{
 "cells": [
  {
   "cell_type": "code",
   "execution_count": 5,
   "metadata": {},
   "outputs": [],
   "source": [
    "from pathlib import Path\n",
    "\n",
    "import pandas as pd"
   ]
  },
  {
   "cell_type": "code",
   "execution_count": 66,
   "metadata": {},
   "outputs": [],
   "source": [
    "DATA_DIR = Path(\"..\", \"..\", \"..\", \"..\", \"caceis\", \"data\")\n",
    "OUTPUT_DIR = Path(DATA_DIR, \"output\")"
   ]
  },
  {
   "cell_type": "code",
   "execution_count": 55,
   "metadata": {},
   "outputs": [],
   "source": [
    "PORTFOLIO_CODE = \"Portoflio Code\"\n",
    "ASSET_CODE = \"Asset Code\"\n",
    "QUANTITY = \"Quantity\"\n",
    "QUANTITY_VARIATION = \"Quantity variation\""
   ]
  },
  {
   "cell_type": "code",
   "execution_count": 56,
   "metadata": {},
   "outputs": [],
   "source": [
    "pd.set_option('display.max_columns', None)\n",
    "\n",
    "portfolio_1_df = pd.read_csv(\n",
    "    Path(DATA_DIR, \"20241122_203007.ptf_inventories.csv\"),\n",
    "    sep=\";\",\n",
    "    usecols=[PORTFOLIO_CODE, ASSET_CODE, QUANTITY],\n",
    "    )\n",
    "\n",
    "portfolio_2_df = pd.read_csv(\n",
    "    Path(DATA_DIR, \"20241125_200215.ptf_inventories.csv\"),\n",
    "    sep=\";\",\n",
    "    usecols=[PORTFOLIO_CODE, ASSET_CODE, QUANTITY],\n",
    "    )"
   ]
  },
  {
   "cell_type": "markdown",
   "metadata": {},
   "source": [
    "## Doublons"
   ]
  },
  {
   "cell_type": "code",
   "execution_count": 57,
   "metadata": {},
   "outputs": [],
   "source": [
    "dup_mask = portfolio_1_df.duplicated(subset=[PORTFOLIO_CODE, ASSET_CODE], keep=False)"
   ]
  },
  {
   "cell_type": "code",
   "execution_count": 58,
   "metadata": {},
   "outputs": [
    {
     "data": {
      "text/html": [
       "<div>\n",
       "<style scoped>\n",
       "    .dataframe tbody tr th:only-of-type {\n",
       "        vertical-align: middle;\n",
       "    }\n",
       "\n",
       "    .dataframe tbody tr th {\n",
       "        vertical-align: top;\n",
       "    }\n",
       "\n",
       "    .dataframe thead th {\n",
       "        text-align: right;\n",
       "    }\n",
       "</style>\n",
       "<table border=\"1\" class=\"dataframe\">\n",
       "  <thead>\n",
       "    <tr style=\"text-align: right;\">\n",
       "      <th></th>\n",
       "      <th>Portoflio Code</th>\n",
       "      <th>Asset Code</th>\n",
       "      <th>Quantity</th>\n",
       "    </tr>\n",
       "  </thead>\n",
       "  <tbody>\n",
       "    <tr>\n",
       "      <th>47</th>\n",
       "      <td>111111</td>\n",
       "      <td>FutUCO22412</td>\n",
       "      <td>31.609809</td>\n",
       "    </tr>\n",
       "    <tr>\n",
       "      <th>62</th>\n",
       "      <td>111111</td>\n",
       "      <td>FutBCO22412</td>\n",
       "      <td>-2.370736</td>\n",
       "    </tr>\n",
       "    <tr>\n",
       "      <th>69</th>\n",
       "      <td>111111</td>\n",
       "      <td>FutBCO22412</td>\n",
       "      <td>11.063433</td>\n",
       "    </tr>\n",
       "    <tr>\n",
       "      <th>70</th>\n",
       "      <td>111111</td>\n",
       "      <td>FutUCO22412</td>\n",
       "      <td>42.673242</td>\n",
       "    </tr>\n",
       "    <tr>\n",
       "      <th>274</th>\n",
       "      <td>111111</td>\n",
       "      <td>ISINS7620S9Y</td>\n",
       "      <td>303.454162</td>\n",
       "    </tr>\n",
       "    <tr>\n",
       "      <th>275</th>\n",
       "      <td>111111</td>\n",
       "      <td>ISINS7620S9Y</td>\n",
       "      <td>1296.792395</td>\n",
       "    </tr>\n",
       "    <tr>\n",
       "      <th>371</th>\n",
       "      <td>111111</td>\n",
       "      <td>ISIN01Q91500</td>\n",
       "      <td>2245.876896</td>\n",
       "    </tr>\n",
       "    <tr>\n",
       "      <th>372</th>\n",
       "      <td>111111</td>\n",
       "      <td>ISIN01Q91500</td>\n",
       "      <td>6513.991291</td>\n",
       "    </tr>\n",
       "    <tr>\n",
       "      <th>597</th>\n",
       "      <td>222222</td>\n",
       "      <td>FutBCO22412</td>\n",
       "      <td>-1.580490</td>\n",
       "    </tr>\n",
       "    <tr>\n",
       "      <th>602</th>\n",
       "      <td>222222</td>\n",
       "      <td>FutPIN22412</td>\n",
       "      <td>2.370736</td>\n",
       "    </tr>\n",
       "    <tr>\n",
       "      <th>612</th>\n",
       "      <td>222222</td>\n",
       "      <td>FutPIN22412</td>\n",
       "      <td>0.790245</td>\n",
       "    </tr>\n",
       "    <tr>\n",
       "      <th>620</th>\n",
       "      <td>222222</td>\n",
       "      <td>FutUCO22412</td>\n",
       "      <td>37.931770</td>\n",
       "    </tr>\n",
       "    <tr>\n",
       "      <th>621</th>\n",
       "      <td>222222</td>\n",
       "      <td>FutBCO22412</td>\n",
       "      <td>-3.951226</td>\n",
       "    </tr>\n",
       "    <tr>\n",
       "      <th>622</th>\n",
       "      <td>222222</td>\n",
       "      <td>FutUCO22412</td>\n",
       "      <td>-16.595149</td>\n",
       "    </tr>\n",
       "    <tr>\n",
       "      <th>847</th>\n",
       "      <td>222222</td>\n",
       "      <td>ISINS7620S9Y</td>\n",
       "      <td>74.283050</td>\n",
       "    </tr>\n",
       "    <tr>\n",
       "      <th>848</th>\n",
       "      <td>222222</td>\n",
       "      <td>ISINS7620S9Y</td>\n",
       "      <td>381.688438</td>\n",
       "    </tr>\n",
       "    <tr>\n",
       "      <th>964</th>\n",
       "      <td>222222</td>\n",
       "      <td>ISIN01Q91500</td>\n",
       "      <td>575.298515</td>\n",
       "    </tr>\n",
       "    <tr>\n",
       "      <th>965</th>\n",
       "      <td>222222</td>\n",
       "      <td>ISIN01Q91500</td>\n",
       "      <td>1577.329445</td>\n",
       "    </tr>\n",
       "  </tbody>\n",
       "</table>\n",
       "</div>"
      ],
      "text/plain": [
       "     Portoflio Code    Asset Code     Quantity\n",
       "47           111111   FutUCO22412    31.609809\n",
       "62           111111   FutBCO22412    -2.370736\n",
       "69           111111   FutBCO22412    11.063433\n",
       "70           111111   FutUCO22412    42.673242\n",
       "274          111111  ISINS7620S9Y   303.454162\n",
       "275          111111  ISINS7620S9Y  1296.792395\n",
       "371          111111  ISIN01Q91500  2245.876896\n",
       "372          111111  ISIN01Q91500  6513.991291\n",
       "597          222222   FutBCO22412    -1.580490\n",
       "602          222222   FutPIN22412     2.370736\n",
       "612          222222   FutPIN22412     0.790245\n",
       "620          222222   FutUCO22412    37.931770\n",
       "621          222222   FutBCO22412    -3.951226\n",
       "622          222222   FutUCO22412   -16.595149\n",
       "847          222222  ISINS7620S9Y    74.283050\n",
       "848          222222  ISINS7620S9Y   381.688438\n",
       "964          222222  ISIN01Q91500   575.298515\n",
       "965          222222  ISIN01Q91500  1577.329445"
      ]
     },
     "execution_count": 58,
     "metadata": {},
     "output_type": "execute_result"
    }
   ],
   "source": [
    "portfolio_1_df[dup_mask]"
   ]
  },
  {
   "cell_type": "markdown",
   "metadata": {},
   "source": [
    "### Agrégation des lignes multiples pour un même asset dans un même portefeuille (somme)"
   ]
  },
  {
   "cell_type": "code",
   "execution_count": 59,
   "metadata": {},
   "outputs": [],
   "source": [
    "aggregated_1 = portfolio_1_df.groupby([PORTFOLIO_CODE, ASSET_CODE]).sum().reset_index()"
   ]
  },
  {
   "cell_type": "code",
   "execution_count": 60,
   "metadata": {},
   "outputs": [],
   "source": [
    "aggregated_2 = portfolio_2_df.groupby([PORTFOLIO_CODE, ASSET_CODE]).sum().reset_index()"
   ]
  },
  {
   "cell_type": "markdown",
   "metadata": {},
   "source": [
    "## Jointure (full outer) et remplissage des valeurs par 0"
   ]
  },
  {
   "cell_type": "code",
   "execution_count": 61,
   "metadata": {},
   "outputs": [],
   "source": [
    "merged_df = pd.merge(\n",
    "    aggregated_1,\n",
    "    aggregated_2,\n",
    "    how=\"outer\",\n",
    "    on=[PORTFOLIO_CODE, ASSET_CODE],\n",
    "    suffixes=(\"_before\", \"_after\"),\n",
    ").fillna(0)"
   ]
  },
  {
   "cell_type": "markdown",
   "metadata": {},
   "source": [
    "## Calcul de la variation"
   ]
  },
  {
   "cell_type": "code",
   "execution_count": 62,
   "metadata": {},
   "outputs": [],
   "source": [
    "merged_df[QUANTITY_VARIATION] = merged_df[\"Quantity_after\"] - merged_df[\"Quantity_before\"]"
   ]
  },
  {
   "cell_type": "code",
   "execution_count": 63,
   "metadata": {},
   "outputs": [
    {
     "data": {
      "text/html": [
       "<div>\n",
       "<style scoped>\n",
       "    .dataframe tbody tr th:only-of-type {\n",
       "        vertical-align: middle;\n",
       "    }\n",
       "\n",
       "    .dataframe tbody tr th {\n",
       "        vertical-align: top;\n",
       "    }\n",
       "\n",
       "    .dataframe thead th {\n",
       "        text-align: right;\n",
       "    }\n",
       "</style>\n",
       "<table border=\"1\" class=\"dataframe\">\n",
       "  <thead>\n",
       "    <tr style=\"text-align: right;\">\n",
       "      <th></th>\n",
       "      <th>Portoflio Code</th>\n",
       "      <th>Asset Code</th>\n",
       "      <th>Quantity_before</th>\n",
       "      <th>Quantity_after</th>\n",
       "      <th>Quantity variation</th>\n",
       "    </tr>\n",
       "  </thead>\n",
       "  <tbody>\n",
       "    <tr>\n",
       "      <th>0</th>\n",
       "      <td>111111</td>\n",
       "      <td>CashAUD</td>\n",
       "      <td>95178.18449</td>\n",
       "      <td>95178.18449</td>\n",
       "      <td>0.0</td>\n",
       "    </tr>\n",
       "    <tr>\n",
       "      <th>1</th>\n",
       "      <td>111111</td>\n",
       "      <td>CashCAD</td>\n",
       "      <td>14870.54203</td>\n",
       "      <td>14870.54203</td>\n",
       "      <td>0.0</td>\n",
       "    </tr>\n",
       "    <tr>\n",
       "      <th>2</th>\n",
       "      <td>111111</td>\n",
       "      <td>CashCHF</td>\n",
       "      <td>34195.61730</td>\n",
       "      <td>34195.61730</td>\n",
       "      <td>0.0</td>\n",
       "    </tr>\n",
       "    <tr>\n",
       "      <th>3</th>\n",
       "      <td>111111</td>\n",
       "      <td>CashDKK</td>\n",
       "      <td>87008.76382</td>\n",
       "      <td>87008.76382</td>\n",
       "      <td>0.0</td>\n",
       "    </tr>\n",
       "    <tr>\n",
       "      <th>4</th>\n",
       "      <td>111111</td>\n",
       "      <td>CashEUR</td>\n",
       "      <td>181067.57390</td>\n",
       "      <td>181067.57390</td>\n",
       "      <td>0.0</td>\n",
       "    </tr>\n",
       "  </tbody>\n",
       "</table>\n",
       "</div>"
      ],
      "text/plain": [
       "   Portoflio Code Asset Code  Quantity_before  Quantity_after  \\\n",
       "0          111111    CashAUD      95178.18449     95178.18449   \n",
       "1          111111    CashCAD      14870.54203     14870.54203   \n",
       "2          111111    CashCHF      34195.61730     34195.61730   \n",
       "3          111111    CashDKK      87008.76382     87008.76382   \n",
       "4          111111    CashEUR     181067.57390    181067.57390   \n",
       "\n",
       "   Quantity variation  \n",
       "0                 0.0  \n",
       "1                 0.0  \n",
       "2                 0.0  \n",
       "3                 0.0  \n",
       "4                 0.0  "
      ]
     },
     "execution_count": 63,
     "metadata": {},
     "output_type": "execute_result"
    }
   ],
   "source": [
    "merged_df.head()"
   ]
  },
  {
   "cell_type": "code",
   "execution_count": 67,
   "metadata": {},
   "outputs": [],
   "source": [
    "variation_df = merged_df[[PORTFOLIO_CODE, ASSET_CODE, QUANTITY_VARIATION]][\n",
    "    merged_df[QUANTITY_VARIATION] != 0.\n",
    "]"
   ]
  },
  {
   "cell_type": "markdown",
   "metadata": {},
   "source": [
    "## Export du fichier au format csv"
   ]
  },
  {
   "cell_type": "code",
   "execution_count": 68,
   "metadata": {},
   "outputs": [],
   "source": [
    "variation_df.to_csv(Path(OUTPUT_DIR, \"variations.csv\"))"
   ]
  },
  {
   "cell_type": "markdown",
   "metadata": {},
   "source": [
    "# Viz"
   ]
  },
  {
   "cell_type": "code",
   "execution_count": 69,
   "metadata": {},
   "outputs": [],
   "source": [
    "import matplotlib.pyplot as plt\n",
    "import seaborn as sns"
   ]
  },
  {
   "cell_type": "code",
   "execution_count": 82,
   "metadata": {},
   "outputs": [
    {
     "data": {
      "image/png": "[encoded data removed]",
      "text/plain": [
       "<Figure size 640x480 with 1 Axes>"
      ]
     },
     "metadata": {},
     "output_type": "display_data"
    }
   ],
   "source": [
    "plt.hist(variation_df[QUANTITY_VARIATION])\n",
    "plt.title(\"Distribution\")\n",
    "plt.xlabel(\"Variation\")\n",
    "plt.ylabel(\"Densité\")\n",
    "plt.show()"
   ]
  },
  {
   "cell_type": "code",
   "execution_count": 79,
   "metadata": {},
   "outputs": [
    {
     "data": {
      "image/png": "[encoded data removed]",
      "text/plain": [
       "<Figure size 640x480 with 1 Axes>"
      ]
     },
     "metadata": {},
     "output_type": "display_data"
    }
   ],
   "source": [
    "variation_df[QUANTITY_VARIATION].plot(kind=\"kde\")\n",
    "plt.title(\"Distribution\")\n",
    "plt.xlabel(\"Variation\")\n",
    "plt.ylabel(\"Densité\")\n",
    "plt.show()"
   ]
  },
  {
   "cell_type": "code",
   "execution_count": 83,
   "metadata": {},
   "outputs": [
    {
     "data": {
      "image/png": "[encoded data removed]",
      "text/plain": [
       "<Figure size 640x480 with 1 Axes>"
      ]
     },
     "metadata": {},
     "output_type": "display_data"
    }
   ],
   "source": [
    "sns.kdeplot(variation_df[QUANTITY_VARIATION], fill=True)\n",
    "\n",
    "plt.title(\"Distribution\")\n",
    "plt.xlabel(\"Variation\")\n",
    "plt.ylabel(\"Densité\")\n",
    "plt.show()"
   ]
  },
  {
   "cell_type": "code",
   "execution_count": null,
   "metadata": {},
   "outputs": [],
   "source": []
  }
 ],
 "metadata": {
  "kernelspec": {
   "display_name": "test-yOZBwoax-py3.11",
   "language": "python",
   "name": "python3"
  },
  "language_info": {
   "codemirror_mode": {
    "name": "ipython",
    "version": 3
   },
   "file_extension": ".py",
   "mimetype": "text/x-python",
   "name": "python",
   "nbconvert_exporter": "python",
   "pygments_lexer": "ipython3",
   "version": "3.11.4"
  }
 },
 "nbformat": 4,
 "nbformat_minor": 2
}
