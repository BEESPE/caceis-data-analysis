{
 "cells": [
  {
   "cell_type": "markdown",
   "metadata": {},
   "source": [
    "Dans ce TP, nous considérons des trajets en vélo partagé (similaire au Vélib) en Californie. Deux jeux de données sont fournis : l'un qui contient les stations de vélo, l'autre, les trajets à vélo. Les déplacements à vélo se font d'une station à l'autre."
   ]
  },
  {
   "cell_type": "code",
   "execution_count": null,
   "id": "adb4c325",
   "metadata": {},
   "outputs": [],
   "source": [
    "from pathlib import Path\n",
    "import sqlite3\n",
    "\n",
    "import pandas as pd"
   ]
  },
  {
   "cell_type": "code",
   "execution_count": 53,
   "id": "e8b2587a",
   "metadata": {},
   "outputs": [],
   "source": [
    "DATA_DIR = Path(\"../../data\")\n",
    "station_file_path = DATA_DIR / \"stationData.csv\"\n",
    "trip_file_path = DATA_DIR / \"tripData.csv\""
   ]
  },
  {
   "cell_type": "markdown",
   "metadata": {},
   "source": [
    "Charger le fichier stationData.csv dans un DataFrame `station_df` et le fichier tripData.csv dans un DataFrame `trip_df`. Pour chaque DataFrame, il vous faudra demander une inférence des schémas et indiquer que la première ligne est un en-tête."
   ]
  },
  {
   "cell_type": "code",
   "execution_count": 54,
   "metadata": {},
   "outputs": [],
   "source": [
    "station_df = pd.read_csv(station_file_path)\n",
    "trip_df = pd.read_csv(trip_file_path)"
   ]
  },
  {
   "cell_type": "markdown",
   "metadata": {},
   "source": [
    "Afficher les schémas/informations des deux DataFrames."
   ]
  },
  {
   "cell_type": "code",
   "execution_count": 55,
   "metadata": {},
   "outputs": [
    {
     "name": "stdout",
     "output_type": "stream",
     "text": [
      "<class 'pandas.core.frame.DataFrame'>\n",
      "RangeIndex: 70 entries, 0 to 69\n",
      "Data columns (total 7 columns):\n",
      " #   Column        Non-Null Count  Dtype  \n",
      "---  ------        --------------  -----  \n",
      " 0   station_id    70 non-null     int64  \n",
      " 1   name          70 non-null     object \n",
      " 2   lat           70 non-null     float64\n",
      " 3   long          70 non-null     float64\n",
      " 4   dockcount     70 non-null     int64  \n",
      " 5   landmark      70 non-null     object \n",
      " 6   installation  70 non-null     object \n",
      "dtypes: float64(2), int64(2), object(3)\n",
      "memory usage: 4.0+ KB\n",
      "None\n"
     ]
    }
   ],
   "source": [
    "print(station_df.info())"
   ]
  },
  {
   "cell_type": "code",
   "execution_count": 56,
   "id": "9836895c",
   "metadata": {},
   "outputs": [
    {
     "name": "stdout",
     "output_type": "stream",
     "text": [
      "<class 'pandas.core.frame.DataFrame'>\n",
      "RangeIndex: 354152 entries, 0 to 354151\n",
      "Data columns (total 11 columns):\n",
      " #   Column          Non-Null Count   Dtype \n",
      "---  ------          --------------   ----- \n",
      " 0   TripID          354152 non-null  int64 \n",
      " 1   Duration        354152 non-null  int64 \n",
      " 2   StartDate       354152 non-null  object\n",
      " 3   StartStation    354152 non-null  object\n",
      " 4   StartTerminal   354152 non-null  int64 \n",
      " 5   EndDate         354152 non-null  object\n",
      " 6   EndStation      354152 non-null  object\n",
      " 7   EndTerminal     354152 non-null  int64 \n",
      " 8   Bike#           354152 non-null  int64 \n",
      " 9   SubscriberType  354152 non-null  object\n",
      " 10  ZipCode         353874 non-null  object\n",
      "dtypes: int64(5), object(6)\n",
      "memory usage: 29.7+ MB\n",
      "None\n"
     ]
    }
   ],
   "source": [
    "print(trip_df.info())"
   ]
  },
  {
   "cell_type": "code",
   "execution_count": 57,
   "id": "68e8c373",
   "metadata": {},
   "outputs": [
    {
     "data": {
      "text/html": [
       "<div>\n",
       "<style scoped>\n",
       "    .dataframe tbody tr th:only-of-type {\n",
       "        vertical-align: middle;\n",
       "    }\n",
       "\n",
       "    .dataframe tbody tr th {\n",
       "        vertical-align: top;\n",
       "    }\n",
       "\n",
       "    .dataframe thead th {\n",
       "        text-align: right;\n",
       "    }\n",
       "</style>\n",
       "<table border=\"1\" class=\"dataframe\">\n",
       "  <thead>\n",
       "    <tr style=\"text-align: right;\">\n",
       "      <th></th>\n",
       "      <th>station_id</th>\n",
       "      <th>name</th>\n",
       "      <th>lat</th>\n",
       "      <th>long</th>\n",
       "      <th>dockcount</th>\n",
       "      <th>landmark</th>\n",
       "      <th>installation</th>\n",
       "    </tr>\n",
       "  </thead>\n",
       "  <tbody>\n",
       "    <tr>\n",
       "      <th>0</th>\n",
       "      <td>2</td>\n",
       "      <td>San Jose Diridon Caltrain Station</td>\n",
       "      <td>37.329732</td>\n",
       "      <td>-121.901782</td>\n",
       "      <td>27</td>\n",
       "      <td>San Jose</td>\n",
       "      <td>8/6/2013</td>\n",
       "    </tr>\n",
       "    <tr>\n",
       "      <th>1</th>\n",
       "      <td>3</td>\n",
       "      <td>San Jose Civic Center</td>\n",
       "      <td>37.330698</td>\n",
       "      <td>-121.888979</td>\n",
       "      <td>15</td>\n",
       "      <td>San Jose</td>\n",
       "      <td>8/5/2013</td>\n",
       "    </tr>\n",
       "    <tr>\n",
       "      <th>2</th>\n",
       "      <td>4</td>\n",
       "      <td>Santa Clara at Almaden</td>\n",
       "      <td>37.333988</td>\n",
       "      <td>-121.894902</td>\n",
       "      <td>11</td>\n",
       "      <td>San Jose</td>\n",
       "      <td>8/6/2013</td>\n",
       "    </tr>\n",
       "    <tr>\n",
       "      <th>3</th>\n",
       "      <td>5</td>\n",
       "      <td>Adobe on Almaden</td>\n",
       "      <td>37.331415</td>\n",
       "      <td>-121.893200</td>\n",
       "      <td>19</td>\n",
       "      <td>San Jose</td>\n",
       "      <td>8/5/2013</td>\n",
       "    </tr>\n",
       "    <tr>\n",
       "      <th>4</th>\n",
       "      <td>6</td>\n",
       "      <td>San Pedro Square</td>\n",
       "      <td>37.336721</td>\n",
       "      <td>-121.894074</td>\n",
       "      <td>15</td>\n",
       "      <td>San Jose</td>\n",
       "      <td>8/7/2013</td>\n",
       "    </tr>\n",
       "  </tbody>\n",
       "</table>\n",
       "</div>"
      ],
      "text/plain": [
       "   station_id                               name        lat        long  \\\n",
       "0           2  San Jose Diridon Caltrain Station  37.329732 -121.901782   \n",
       "1           3              San Jose Civic Center  37.330698 -121.888979   \n",
       "2           4             Santa Clara at Almaden  37.333988 -121.894902   \n",
       "3           5                   Adobe on Almaden  37.331415 -121.893200   \n",
       "4           6                   San Pedro Square  37.336721 -121.894074   \n",
       "\n",
       "   dockcount  landmark installation  \n",
       "0         27  San Jose     8/6/2013  \n",
       "1         15  San Jose     8/5/2013  \n",
       "2         11  San Jose     8/6/2013  \n",
       "3         19  San Jose     8/5/2013  \n",
       "4         15  San Jose     8/7/2013  "
      ]
     },
     "execution_count": 57,
     "metadata": {},
     "output_type": "execute_result"
    }
   ],
   "source": [
    "station_df.head()"
   ]
  },
  {
   "cell_type": "code",
   "execution_count": 58,
   "id": "c3bd80ea",
   "metadata": {},
   "outputs": [
    {
     "data": {
      "text/plain": [
       "count    70.000000\n",
       "mean     17.657143\n",
       "std       4.010442\n",
       "min      11.000000\n",
       "25%      15.000000\n",
       "50%      15.000000\n",
       "75%      19.000000\n",
       "max      27.000000\n",
       "Name: dockcount, dtype: float64"
      ]
     },
     "execution_count": 58,
     "metadata": {},
     "output_type": "execute_result"
    }
   ],
   "source": [
    "station_df[\"dockcount\"].describe()"
   ]
  },
  {
   "cell_type": "code",
   "execution_count": 59,
   "id": "13e4b6d9",
   "metadata": {},
   "outputs": [
    {
     "data": {
      "text/html": [
       "<div>\n",
       "<style scoped>\n",
       "    .dataframe tbody tr th:only-of-type {\n",
       "        vertical-align: middle;\n",
       "    }\n",
       "\n",
       "    .dataframe tbody tr th {\n",
       "        vertical-align: top;\n",
       "    }\n",
       "\n",
       "    .dataframe thead th {\n",
       "        text-align: right;\n",
       "    }\n",
       "</style>\n",
       "<table border=\"1\" class=\"dataframe\">\n",
       "  <thead>\n",
       "    <tr style=\"text-align: right;\">\n",
       "      <th></th>\n",
       "      <th>TripID</th>\n",
       "      <th>Duration</th>\n",
       "      <th>StartDate</th>\n",
       "      <th>StartStation</th>\n",
       "      <th>StartTerminal</th>\n",
       "      <th>EndDate</th>\n",
       "      <th>EndStation</th>\n",
       "      <th>EndTerminal</th>\n",
       "      <th>Bike#</th>\n",
       "      <th>SubscriberType</th>\n",
       "      <th>ZipCode</th>\n",
       "    </tr>\n",
       "  </thead>\n",
       "  <tbody>\n",
       "    <tr>\n",
       "      <th>0</th>\n",
       "      <td>913460</td>\n",
       "      <td>765</td>\n",
       "      <td>8/31/2015 23:26</td>\n",
       "      <td>Harry Bridges Plaza (Ferry Building)</td>\n",
       "      <td>50</td>\n",
       "      <td>8/31/2015 23:39</td>\n",
       "      <td>San Francisco Caltrain (Townsend at 4th)</td>\n",
       "      <td>70</td>\n",
       "      <td>288</td>\n",
       "      <td>Subscriber</td>\n",
       "      <td>2139</td>\n",
       "    </tr>\n",
       "    <tr>\n",
       "      <th>1</th>\n",
       "      <td>913459</td>\n",
       "      <td>1036</td>\n",
       "      <td>8/31/2015 23:11</td>\n",
       "      <td>San Antonio Shopping Center</td>\n",
       "      <td>31</td>\n",
       "      <td>8/31/2015 23:28</td>\n",
       "      <td>Mountain View City Hall</td>\n",
       "      <td>27</td>\n",
       "      <td>35</td>\n",
       "      <td>Subscriber</td>\n",
       "      <td>95032</td>\n",
       "    </tr>\n",
       "    <tr>\n",
       "      <th>2</th>\n",
       "      <td>913455</td>\n",
       "      <td>307</td>\n",
       "      <td>8/31/2015 23:13</td>\n",
       "      <td>Post at Kearny</td>\n",
       "      <td>47</td>\n",
       "      <td>8/31/2015 23:18</td>\n",
       "      <td>2nd at South Park</td>\n",
       "      <td>64</td>\n",
       "      <td>468</td>\n",
       "      <td>Subscriber</td>\n",
       "      <td>94107</td>\n",
       "    </tr>\n",
       "    <tr>\n",
       "      <th>3</th>\n",
       "      <td>913454</td>\n",
       "      <td>409</td>\n",
       "      <td>8/31/2015 23:10</td>\n",
       "      <td>San Jose City Hall</td>\n",
       "      <td>10</td>\n",
       "      <td>8/31/2015 23:17</td>\n",
       "      <td>San Salvador at 1st</td>\n",
       "      <td>8</td>\n",
       "      <td>68</td>\n",
       "      <td>Subscriber</td>\n",
       "      <td>95113</td>\n",
       "    </tr>\n",
       "    <tr>\n",
       "      <th>4</th>\n",
       "      <td>913453</td>\n",
       "      <td>789</td>\n",
       "      <td>8/31/2015 23:09</td>\n",
       "      <td>Embarcadero at Folsom</td>\n",
       "      <td>51</td>\n",
       "      <td>8/31/2015 23:22</td>\n",
       "      <td>Embarcadero at Sansome</td>\n",
       "      <td>60</td>\n",
       "      <td>487</td>\n",
       "      <td>Customer</td>\n",
       "      <td>9069</td>\n",
       "    </tr>\n",
       "  </tbody>\n",
       "</table>\n",
       "</div>"
      ],
      "text/plain": [
       "   TripID  Duration        StartDate                          StartStation  \\\n",
       "0  913460       765  8/31/2015 23:26  Harry Bridges Plaza (Ferry Building)   \n",
       "1  913459      1036  8/31/2015 23:11           San Antonio Shopping Center   \n",
       "2  913455       307  8/31/2015 23:13                        Post at Kearny   \n",
       "3  913454       409  8/31/2015 23:10                    San Jose City Hall   \n",
       "4  913453       789  8/31/2015 23:09                 Embarcadero at Folsom   \n",
       "\n",
       "   StartTerminal          EndDate                                EndStation  \\\n",
       "0             50  8/31/2015 23:39  San Francisco Caltrain (Townsend at 4th)   \n",
       "1             31  8/31/2015 23:28                   Mountain View City Hall   \n",
       "2             47  8/31/2015 23:18                         2nd at South Park   \n",
       "3             10  8/31/2015 23:17                       San Salvador at 1st   \n",
       "4             51  8/31/2015 23:22                    Embarcadero at Sansome   \n",
       "\n",
       "   EndTerminal  Bike# SubscriberType ZipCode  \n",
       "0           70    288     Subscriber    2139  \n",
       "1           27     35     Subscriber   95032  \n",
       "2           64    468     Subscriber   94107  \n",
       "3            8     68     Subscriber   95113  \n",
       "4           60    487       Customer    9069  "
      ]
     },
     "execution_count": 59,
     "metadata": {},
     "output_type": "execute_result"
    }
   ],
   "source": [
    "trip_df.head()"
   ]
  },
  {
   "cell_type": "markdown",
   "metadata": {},
   "source": [
    "Créer une base SQLite ainsi qu'une vue SQL pour chaque DataFrame."
   ]
  },
  {
   "cell_type": "code",
   "execution_count": 60,
   "metadata": {},
   "outputs": [
    {
     "data": {
      "text/plain": [
       "354152"
      ]
     },
     "execution_count": 60,
     "metadata": {},
     "output_type": "execute_result"
    }
   ],
   "source": [
    "conn = sqlite3.connect(\":memory:\")\n",
    "station_df.to_sql(\"station\", conn, index=False, if_exists=\"replace\")\n",
    "trip_df.to_sql(\"trip\", conn, index=False, if_exists=\"replace\")"
   ]
  },
  {
   "cell_type": "markdown",
   "metadata": {},
   "source": [
    "Trouver deux façons de calculer le nombre de trajets, l'une en appelant une méthode sur `trip_df` directement, l'autre en rédigeant une requête SQL sur la vue correspondante."
   ]
  },
  {
   "cell_type": "code",
   "execution_count": 61,
   "id": "08bf681f",
   "metadata": {},
   "outputs": [
    {
     "data": {
      "text/plain": [
       "354152"
      ]
     },
     "execution_count": 61,
     "metadata": {},
     "output_type": "execute_result"
    }
   ],
   "source": [
    "# Méthode pandas\n",
    "len(trip_df)"
   ]
  },
  {
   "cell_type": "code",
   "execution_count": 62,
   "metadata": {},
   "outputs": [
    {
     "name": "stdout",
     "output_type": "stream",
     "text": [
      "354152\n"
     ]
    }
   ],
   "source": [
    "# Méthode SQL\n",
    "query_1 = \"SELECT COUNT(*) AS trip_count FROM trip\"\n",
    "trip_count = pd.read_sql(query_1, conn)\n",
    "print(trip_count.iloc[0][\"trip_count\"])"
   ]
  },
  {
   "cell_type": "markdown",
   "metadata": {},
   "source": [
    "Écrire une requête permettant de compter le nombre de trajets qui démarrent et se terminent à la même station."
   ]
  },
  {
   "cell_type": "code",
   "execution_count": 64,
   "id": "46b61a7f",
   "metadata": {},
   "outputs": [],
   "source": [
    "# import re\n",
    "# regex = ...\n",
    "# trip_df[\"StartTerminal\"].apply(lambda x: re.la_fonction_de_r_qui_cherche_regex_dans_x(x, regex))"
   ]
  },
  {
   "cell_type": "code",
   "execution_count": 65,
   "metadata": {},
   "outputs": [
    {
     "name": "stdout",
     "output_type": "stream",
     "text": [
      "Nombre de trajets circulaires : 10276.\n"
     ]
    }
   ],
   "source": [
    "# Méthode pandas\n",
    "mask = trip_df[\"StartTerminal\"] == trip_df[\"EndTerminal\"]\n",
    "print(f\"Nombre de trajets circulaires : {len(trip_df[mask])}.\")"
   ]
  },
  {
   "cell_type": "code",
   "execution_count": 66,
   "id": "c78e5a51",
   "metadata": {},
   "outputs": [
    {
     "name": "stdout",
     "output_type": "stream",
     "text": [
      "   COUNT(*)\n",
      "0     10276\n"
     ]
    }
   ],
   "source": [
    "# Méthode SQL\n",
    "query_2 = \"\"\"\n",
    "SELECT COUNT(*)\n",
    "FROM TRIP\n",
    "WHERE StartTerminal = EndTerminal\n",
    "\"\"\"\n",
    "circular_trips = pd.read_sql(query_2, conn)\n",
    "print(circular_trips)"
   ]
  },
  {
   "cell_type": "markdown",
   "metadata": {},
   "source": [
    "Obtenir l’id des stations associées à ces trajets. Écrire une requête renvoyant la liste des terminaux concernés ainsi que le nombre de trajets pour chacun de ces terminaux. Trier le résultat par ordre décroissant de nombre de trajets."
   ]
  },
  {
   "cell_type": "code",
   "execution_count": 67,
   "metadata": {},
   "outputs": [
    {
     "name": "stdout",
     "output_type": "stream",
     "text": [
      "    terminal  trip_count\n",
      "0         60         850\n",
      "1         50         708\n",
      "2         35         348\n",
      "3         76         320\n",
      "4         74         307\n",
      "..       ...         ...\n",
      "65        80          26\n",
      "66        24          23\n",
      "67        83          21\n",
      "68        21          12\n",
      "69        26           7\n",
      "\n",
      "[70 rows x 2 columns]\n"
     ]
    }
   ],
   "source": [
    "# Méthode SQL\n",
    "query_3 = \"\"\"\n",
    "SELECT StartTerminal AS terminal, COUNT(*) AS trip_count\n",
    "FROM trip\n",
    "WHERE StartTerminal = EndTerminal\n",
    "GROUP BY terminal\n",
    "ORDER BY trip_count DESC\n",
    "\"\"\"\n",
    "print(pd.read_sql(query_3, conn))"
   ]
  },
  {
   "cell_type": "markdown",
   "id": "e4ff4d3b",
   "metadata": {},
   "source": []
  },
  {
   "cell_type": "code",
   "execution_count": 70,
   "id": "2f482144",
   "metadata": {},
   "outputs": [
    {
     "data": {
      "text/html": [
       "<div>\n",
       "<style scoped>\n",
       "    .dataframe tbody tr th:only-of-type {\n",
       "        vertical-align: middle;\n",
       "    }\n",
       "\n",
       "    .dataframe tbody tr th {\n",
       "        vertical-align: top;\n",
       "    }\n",
       "\n",
       "    .dataframe thead th {\n",
       "        text-align: right;\n",
       "    }\n",
       "</style>\n",
       "<table border=\"1\" class=\"dataframe\">\n",
       "  <thead>\n",
       "    <tr style=\"text-align: right;\">\n",
       "      <th></th>\n",
       "      <th>StartTerminal</th>\n",
       "      <th>trip_count</th>\n",
       "    </tr>\n",
       "  </thead>\n",
       "  <tbody>\n",
       "    <tr>\n",
       "      <th>48</th>\n",
       "      <td>60</td>\n",
       "      <td>850</td>\n",
       "    </tr>\n",
       "    <tr>\n",
       "      <th>40</th>\n",
       "      <td>50</td>\n",
       "      <td>708</td>\n",
       "    </tr>\n",
       "    <tr>\n",
       "      <th>28</th>\n",
       "      <td>35</td>\n",
       "      <td>348</td>\n",
       "    </tr>\n",
       "    <tr>\n",
       "      <th>64</th>\n",
       "      <td>76</td>\n",
       "      <td>320</td>\n",
       "    </tr>\n",
       "    <tr>\n",
       "      <th>62</th>\n",
       "      <td>74</td>\n",
       "      <td>307</td>\n",
       "    </tr>\n",
       "    <tr>\n",
       "      <th>...</th>\n",
       "      <td>...</td>\n",
       "      <td>...</td>\n",
       "    </tr>\n",
       "    <tr>\n",
       "      <th>66</th>\n",
       "      <td>80</td>\n",
       "      <td>26</td>\n",
       "    </tr>\n",
       "    <tr>\n",
       "      <th>17</th>\n",
       "      <td>24</td>\n",
       "      <td>23</td>\n",
       "    </tr>\n",
       "    <tr>\n",
       "      <th>68</th>\n",
       "      <td>83</td>\n",
       "      <td>21</td>\n",
       "    </tr>\n",
       "    <tr>\n",
       "      <th>14</th>\n",
       "      <td>21</td>\n",
       "      <td>12</td>\n",
       "    </tr>\n",
       "    <tr>\n",
       "      <th>19</th>\n",
       "      <td>26</td>\n",
       "      <td>7</td>\n",
       "    </tr>\n",
       "  </tbody>\n",
       "</table>\n",
       "<p>70 rows × 2 columns</p>\n",
       "</div>"
      ],
      "text/plain": [
       "    StartTerminal  trip_count\n",
       "48             60         850\n",
       "40             50         708\n",
       "28             35         348\n",
       "64             76         320\n",
       "62             74         307\n",
       "..            ...         ...\n",
       "66             80          26\n",
       "17             24          23\n",
       "68             83          21\n",
       "14             21          12\n",
       "19             26           7\n",
       "\n",
       "[70 rows x 2 columns]"
      ]
     },
     "execution_count": 70,
     "metadata": {},
     "output_type": "execute_result"
    }
   ],
   "source": [
    "# Méthode pandas\n",
    "# A : appliquer la fonction d'agrégation,\n",
    "# B : filtrer,\n",
    "# C : créer les groupes de données,\n",
    "# D : trier par valeurs décroissantes.\n",
    "# B > C > A > D\n",
    "\n",
    "trip_df[\n",
    "    trip_df[\"StartTerminal\"] == trip_df[\"EndTerminal\"]\n",
    "].groupby(\n",
    "    \"StartTerminal\"\n",
    ").size(\n",
    ").reset_index(\n",
    "    name=\"trip_count\"\n",
    ").sort_values(\n",
    "    by=\"trip_count\", ascending=False\n",
    ")"
   ]
  },
  {
   "cell_type": "markdown",
   "metadata": {},
   "source": [
    "Compléter le résultat en indiquant le nombre de docks (dockcount) des stations concernées."
   ]
  },
  {
   "cell_type": "code",
   "execution_count": null,
   "metadata": {},
   "outputs": [],
   "source": [
    "# Méthode pandas\n",
    "\n",
    "trip_df[\n",
    "    trip_df[\"StartTerminal\"] == trip_df[\"EndTerminal\"]\n",
    "].groupby(\n",
    "    \"StartStation\"\n",
    ").size(\n",
    ").reset_index(\n",
    "    name=\"trip_count\"\n",
    ").sort_values(\n",
    "    by=\"trip_count\", ascending=False\n",
    ")"
   ]
  },
  {
   "cell_type": "code",
   "execution_count": 69,
   "id": "048d7474",
   "metadata": {},
   "outputs": [
    {
     "name": "stdout",
     "output_type": "stream",
     "text": [
      "    terminal  dockcount  trip_count\n",
      "0         60         15         850\n",
      "1         50         23         708\n",
      "2         35         11         348\n",
      "3         76         19         320\n",
      "4         74         23         307\n",
      "..       ...        ...         ...\n",
      "65        80         15          26\n",
      "66        24         15          23\n",
      "67        83         15          21\n",
      "68        21         15          12\n",
      "69        26         15           7\n",
      "\n",
      "[70 rows x 3 columns]\n"
     ]
    }
   ],
   "source": [
    "# Méthode SQL\n",
    "query_f = \"\"\"\n",
    "SELECT trip.StartTerminal AS terminal, station.dockcount, COUNT(*) as trip_count\n",
    "FROM trip\n",
    "JOIN station ON trip.StartTerminal = station.station_id\n",
    "WHERE trip.StartTerminal = trip.EndTerminal\n",
    "GROUP BY terminal, station.dockcount\n",
    "ORDER BY trip_count DESC\n",
    "\"\"\"\n",
    "\n",
    "print(pd.read_sql(query_f, conn))"
   ]
  },
  {
   "cell_type": "code",
   "execution_count": null,
   "id": "55082046",
   "metadata": {},
   "outputs": [],
   "source": []
  }
 ],
 "metadata": {
  "kernelspec": {
   "display_name": "test-yOZBwoax-py3.11",
   "language": "python",
   "name": "python3"
  },
  "language_info": {
   "codemirror_mode": {
    "name": "ipython",
    "version": 3
   },
   "file_extension": ".py",
   "mimetype": "text/x-python",
   "name": "python",
   "nbconvert_exporter": "python",
   "pygments_lexer": "ipython3",
   "version": "3.11.4"
  }
 },
 "nbformat": 4,
 "nbformat_minor": 5
}
